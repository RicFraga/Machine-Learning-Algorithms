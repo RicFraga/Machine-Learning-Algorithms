{
 "cells": [
  {
   "cell_type": "code",
   "execution_count": 490,
   "metadata": {},
   "outputs": [],
   "source": [
    "import random\n",
    "import numpy as np\n",
    "\n",
    "# Vector for the data\n",
    "X = np.loadtxt(\"x.txt\")\n",
    "Y = np.loadtxt(\"y.txt\")"
   ]
  },
  {
   "cell_type": "code",
   "execution_count": 491,
   "metadata": {},
   "outputs": [],
   "source": [
    "def initialize_centroids(k, dimensions):\n",
    "    centroids = []\n",
    "\n",
    "    for i in range(k):\n",
    "        centroid = [np.random.random_sample() for a in range(dimensions)]\n",
    "        centroids.append(centroid)\n",
    "    \n",
    "    return np.asarray(centroids)"
   ]
  },
  {
   "cell_type": "code",
   "execution_count": 492,
   "metadata": {},
   "outputs": [],
   "source": [
    "def get_classes(examples, centroids):\n",
    "    classes = np.zeros(X.shape[0], dtype = np.int8)\n",
    "\n",
    "    for e in range(X.shape[0]):\n",
    "        distances = np.zeros(len(centroids))\n",
    "        for c in range(len(centroids)):\n",
    "            distances[c] = np.sqrt(np.sum(np.power(X[e] - centroids[c], 2)))\n",
    "    \n",
    "        classes[e] = np.argmin(distances)\n",
    "    \n",
    "    return classes"
   ]
  },
  {
   "cell_type": "code",
   "execution_count": 493,
   "metadata": {},
   "outputs": [],
   "source": [
    "def get_means(X, k, classes):\n",
    "    means = np.zeros((k, X.shape[1]))\n",
    "\n",
    "    for i in range(k):\n",
    "        index = np.where(classes == i)\n",
    "        means[i] = np.mean(X[index], axis = 0)\n",
    "        \n",
    "    return means"
   ]
  },
  {
   "cell_type": "code",
   "execution_count": 494,
   "metadata": {},
   "outputs": [
    {
     "name": "stdout",
     "output_type": "stream",
     "text": [
      "Cantidad de elementos por clase\n",
      "{0: 1130, 1: 194}\n"
     ]
    }
   ],
   "source": [
    "# Data for the initialization of the algorithm\n",
    "k = 2\n",
    "dimensions = X.shape[1]\n",
    "\n",
    "# To make sure that each class has at least 1 element\n",
    "counts = [0]\n",
    "while(len(counts) != k):\n",
    "\n",
    "    # Randomly initializing the centroids\n",
    "    centroids = initialize_centroids(k, dimensions)\n",
    "\n",
    "    # Getting the first classes\n",
    "    classes = get_classes(X, centroids)\n",
    "\n",
    "    # To see how many elements each class has\n",
    "    unique, counts = np.unique(classes, return_counts = True)\n",
    "\n",
    "# To see how many elements each class has\n",
    "print(\"Cantidad de elementos por clase\")\n",
    "print(dict(zip(unique, counts)))\n",
    "\n",
    "# Getting the means\n",
    "means = get_means(X, k, classes)"
   ]
  },
  {
   "cell_type": "code",
   "execution_count": 495,
   "metadata": {},
   "outputs": [
    {
     "name": "stdout",
     "output_type": "stream",
     "text": [
      "Cantidad de elementos por clase\n",
      "{0: 1193, 1: 131}\n"
     ]
    }
   ],
   "source": [
    "new_centroids = means.copy()\n",
    "iterations = 2\n",
    "\n",
    "for i in range(iterations):\n",
    "\n",
    "    # Getting the first classes\n",
    "    classes = get_classes(X, new_centroids)\n",
    "    \n",
    "    # Calcular las medias\n",
    "    new_centroids = get_means(X, k, classes)\n",
    "        \n",
    "# To see how many elements each class has\n",
    "unique, counts = np.unique(classes, return_counts = True)\n",
    "\n",
    "# To see how many elements each class has\n",
    "print(\"Cantidad de elementos por clase\")\n",
    "print(dict(zip(unique, counts)))"
   ]
  },
  {
   "cell_type": "code",
   "execution_count": 496,
   "metadata": {},
   "outputs": [],
   "source": [
    "cluster_zero = np.where(classes == 0)\n",
    "cluster_one = np.where(classes == 1)\n",
    "\n",
    "zero = Y[cluster_zero]\n",
    "one = Y[cluster_one]\n",
    "\n",
    "unique_zero, counts_zero = np.unique(zero, return_counts = True)\n",
    "unique_one, counts_one = np.unique(one, return_counts = True)"
   ]
  },
  {
   "cell_type": "code",
   "execution_count": 497,
   "metadata": {},
   "outputs": [
    {
     "name": "stdout",
     "output_type": "stream",
     "text": [
      "For cluster one\n",
      "Ham 871 Spam 322\n",
      "For cluster two\n",
      "Ham 131 Spam 0\n"
     ]
    }
   ],
   "source": [
    "print(\"For cluster one\")\n",
    "try:\n",
    "    counts_zeroa = counts_zero[0]\n",
    "    \n",
    "except:\n",
    "    counts_zeroa = 0\n",
    "    \n",
    "try:\n",
    "    counts_zerob = counts_zero[1]\n",
    "    \n",
    "except:\n",
    "    counts_zerob = 0\n",
    "\n",
    "print(\"Ham {0} Spam {1}\".format(counts_zeroa, counts_zerob))\n",
    "\n",
    "print(\"For cluster two\")\n",
    "try:\n",
    "    counts_onea = counts_one[0]\n",
    "\n",
    "except:\n",
    "    counts_onea = 0\n",
    "    \n",
    "try:\n",
    "    counts_oneb = counts_one[1]\n",
    "\n",
    "except:\n",
    "    counts_oneb = 0\n",
    "    \n",
    "print(\"Ham {0} Spam {1}\".format(counts_onea, counts_oneb))"
   ]
  },
  {
   "cell_type": "code",
   "execution_count": null,
   "metadata": {},
   "outputs": [],
   "source": []
  }
 ],
 "metadata": {
  "kernelspec": {
   "display_name": "Python 3",
   "language": "python",
   "name": "python3"
  },
  "language_info": {
   "codemirror_mode": {
    "name": "ipython",
    "version": 3
   },
   "file_extension": ".py",
   "mimetype": "text/x-python",
   "name": "python",
   "nbconvert_exporter": "python",
   "pygments_lexer": "ipython3",
   "version": "3.7.6"
  }
 },
 "nbformat": 4,
 "nbformat_minor": 4
}

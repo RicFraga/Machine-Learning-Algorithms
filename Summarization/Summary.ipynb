{
 "cells": [
  {
   "cell_type": "code",
   "execution_count": 1,
   "metadata": {},
   "outputs": [],
   "source": [
    "import pickle\n",
    "import numpy as np\n",
    "from gensim.summarization import summarize, keywords\n",
    "from nltk.tokenize import sent_tokenize, word_tokenize\n",
    "\n",
    "path_to_no_sentences = '/home/ricardo/Escritorio/Machine-Learning-Algorithms-master/Summarization/no_sentences'\n",
    "path_to_yes_sentences = '/home/ricardo/Escritorio/Machine-Learning-Algorithms-master/Summarization/yes_sentences'\n",
    "aspects = ('disco', 'canción', 'grupo', 'voz', 'músico', 'guitarra', 'sonido')"
   ]
  },
  {
   "cell_type": "code",
   "execution_count": 2,
   "metadata": {},
   "outputs": [],
   "source": [
    "# Function to load data\n",
    "def load_info(path):\n",
    "    f = open(path, 'rb')\n",
    "    sentences = pickle.load(f)\n",
    "    f.close()\n",
    "\n",
    "    return sentences"
   ]
  },
  {
   "cell_type": "code",
   "execution_count": 3,
   "metadata": {},
   "outputs": [],
   "source": [
    "# This function takes a word(aspect) and searches it in sentences\n",
    "def search_aspect(sentences, aspect):\n",
    "    selected_sentences = []\n",
    "    for sentence in sentences:\n",
    "        if(aspect in sentence):\n",
    "            selected_sentences.append(sentence)\n",
    "\n",
    "    return selected_sentences"
   ]
  },
  {
   "cell_type": "code",
   "execution_count": 4,
   "metadata": {},
   "outputs": [],
   "source": [
    "# Function from Dipanjan Sarkar - Text Analytics with Python\n",
    "from gensim.summarization import summarize, keywords\n",
    "def text_summarization_gensim(text, summary_ratio=0.5):\n",
    "    summary = summarize(text, split=True, ratio=summary_ratio)\n",
    "    \n",
    "    return summary"
   ]
  },
  {
   "cell_type": "code",
   "execution_count": 5,
   "metadata": {},
   "outputs": [],
   "source": [
    "no_sentences = sent_tokenize(load_info(path_to_no_sentences))\n",
    "yes_sentences = sent_tokenize(load_info(path_to_yes_sentences))\n",
    "\n",
    "for aspect in aspects:\n",
    "    hit_yes_sentences = ' '.join(search_aspect(yes_sentences, aspect))\n",
    "    hit_no_sentences = ' '.join(search_aspect(no_sentences, aspect))\n",
    "    \n",
    "    gensim_yes = ' '.join(text_summarization_gensim(hit_yes_sentences, summary_ratio=0.2))\n",
    "    gensim_no = ' '.join(text_summarization_gensim(hit_no_sentences, summary_ratio=0.2))\n",
    "    \n",
    "    "
   ]
  },
  {
   "cell_type": "code",
   "execution_count": 6,
   "metadata": {},
   "outputs": [],
   "source": []
  },
  {
   "cell_type": "code",
   "execution_count": null,
   "metadata": {},
   "outputs": [],
   "source": []
  }
 ],
 "metadata": {
  "kernelspec": {
   "display_name": "Python 3",
   "language": "python",
   "name": "python3"
  },
  "language_info": {
   "codemirror_mode": {
    "name": "ipython",
    "version": 3
   },
   "file_extension": ".py",
   "mimetype": "text/x-python",
   "name": "python",
   "nbconvert_exporter": "python",
   "pygments_lexer": "ipython3",
   "version": "3.7.6"
  }
 },
 "nbformat": 4,
 "nbformat_minor": 4
}

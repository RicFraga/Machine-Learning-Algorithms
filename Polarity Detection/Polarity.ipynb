{
 "cells": [
  {
   "cell_type": "code",
   "execution_count": 1,
   "metadata": {},
   "outputs": [],
   "source": [
    "import os\n",
    "import re\n",
    "import nltk\n",
    "import pickle\n",
    "import fnmatch\n",
    "import numpy as np\n",
    "from bs4 import BeautifulSoup\n",
    "from nltk.corpus import stopwords\n",
    "from prettytable import PrettyTable\n",
    "\n",
    "path_to_polarity_dictionary = '/home/fraga/Escritorio/ML-SentiCon/senticon.es.xml'\n",
    "path_to_reviews = '/home/fraga/Escritorio/corpusCine/corpusCriticasCine/'\n",
    "path_to_ranks = '/home/fraga/Escritorio/Machine-Learning/Algorithms/Ordinal Logistic Regression/yfile'\n",
    "\n",
    "ranksfile = open(path_to_ranks, 'rb')\n",
    "ranks = pickle.load(ranksfile)\n",
    "ranksfile.close()"
   ]
  },
  {
   "cell_type": "code",
   "execution_count": 2,
   "metadata": {},
   "outputs": [
    {
     "name": "stdout",
     "output_type": "stream",
     "text": [
      "Vocabulary length: 3878\n"
     ]
    }
   ],
   "source": [
    "pos_format = \".review.pos\"\n",
    "\n",
    "# How many .pos files are contained?\n",
    "amount_of_pos = len(fnmatch.filter(os.listdir(path_to_reviews), '*.pos'))\n",
    "\n",
    "local_voc = []\n",
    "i = 1\n",
    "\n",
    "while(i < amount_of_pos):\n",
    "    try:\n",
    "        # Building the path to the file\n",
    "        a = open(path_to_reviews + str(i) + pos_format, \"r\", encoding = \"ISO-8859-1\")\n",
    "\n",
    "        # Getting the content and forming a single string with it\n",
    "        content = a.readlines()\n",
    "        \n",
    "        aux = []\n",
    "        \n",
    "        # Getting the lemmatized word of each line (this word is in the second position of each line)\n",
    "        for j in range(len(content)):\n",
    "            try:\n",
    "                aux.append(content[j].split(' ')[1])\n",
    "            except:\n",
    "                continue\n",
    "        \n",
    "        local_voc.append(aux)\n",
    "        i += 1\n",
    "        a.close()\n",
    "        \n",
    "    except:\n",
    "        i += 1\n",
    "\n",
    "print(\"Vocabulary length:\", len(local_voc))"
   ]
  },
  {
   "cell_type": "code",
   "execution_count": 3,
   "metadata": {},
   "outputs": [],
   "source": [
    "def removeStopwords(vocabulary):\n",
    "    T = re.compile(r'^[-+]?([1-9]\\d*|0)$')\n",
    "    O = re.compile('[a-z]')\n",
    "    punctation_marks = ('.', ',', ':', ';',\n",
    "                        '¿', '?', '!', '¡',\n",
    "                        '(', ')', '[', ']',\n",
    "                        '{', '}', '\"', '\"\"',\n",
    "                        \"'\", \"''\")\n",
    "    return [word for word in vocabulary\n",
    "            if word not in stopwords.words('spanish') and\n",
    "            word not in punctation_marks\n",
    "            and T.match(word) == None\n",
    "            and O.match(word) != None]"
   ]
  },
  {
   "cell_type": "code",
   "execution_count": 4,
   "metadata": {
    "scrolled": true
   },
   "outputs": [],
   "source": [
    "clean_voc = []\n",
    "\n",
    "for i in range(len(local_voc)):\n",
    "    clean_voc.append(removeStopwords(local_voc[i]))"
   ]
  },
  {
   "cell_type": "code",
   "execution_count": 5,
   "metadata": {},
   "outputs": [],
   "source": [
    "vocfile = open('clean vocabulary', 'ab') \n",
    "pickle.dump(clean_voc, vocfile)\n",
    "vocfile.close()"
   ]
  },
  {
   "cell_type": "code",
   "execution_count": 6,
   "metadata": {},
   "outputs": [
    {
     "name": "stdout",
     "output_type": "stream",
     "text": [
      "There are 11542 lemmas values\n"
     ]
    }
   ],
   "source": [
    "# Getting the polarity values\n",
    "a = open(path_to_polarity_dictionary)\n",
    "content = a.read()\n",
    "a.close()\n",
    "\n",
    "soup = BeautifulSoup(content, 'lxml')\n",
    "\n",
    "lemmas_lines = soup.findAll('lemma')\n",
    "print(\"There are\", len(lemmas_lines), \"lemmas values\")\n",
    "\n",
    "polarity_dictionary = {}\n",
    "\n",
    "for i in range(len(lemmas_lines)):\n",
    "    polarity_dictionary[lemmas_lines[i].text[1:-1]] = float(lemmas_lines[i]['pol'])\n",
    "\n",
    "keys = list(polarity_dictionary.keys())"
   ]
  },
  {
   "cell_type": "code",
   "execution_count": 7,
   "metadata": {},
   "outputs": [],
   "source": [
    "lemmafile = open('polarity values', 'ab') \n",
    "pickle.dump(polarity_dictionary, lemmafile)\n",
    "lemmafile.close()"
   ]
  },
  {
   "cell_type": "code",
   "execution_count": 8,
   "metadata": {},
   "outputs": [],
   "source": [
    "# Getting the position of the ranks\n",
    "ranks_one   = np.asarray(np.where(ranks == 1))\n",
    "ranks_one   = ranks_one.reshape((ranks_one.shape[1], ))\n",
    "\n",
    "ranks_two   = np.asarray(np.where(ranks == 2))\n",
    "ranks_two   = ranks_two.reshape((ranks_two.shape[1], ))\n",
    "\n",
    "ranks_three = np.asarray(np.where(ranks == 3))\n",
    "ranks_three = ranks_three.reshape((ranks_three.shape[1], ))\n",
    "\n",
    "ranks_four  = np.asarray(np.where(ranks == 4))\n",
    "ranks_four  = ranks_four.reshape((ranks_four.shape[1], ))\n",
    "\n",
    "ranks_five  = np.asarray(np.where(ranks == 5))\n",
    "ranks_five  = ranks_five.reshape((ranks_five.shape[1], ))"
   ]
  },
  {
   "cell_type": "code",
   "execution_count": 9,
   "metadata": {},
   "outputs": [],
   "source": [
    "# Getting the values of the rank zero reviews\n",
    "sum_one = 0\n",
    "amount_one = len(ranks_one)\n",
    "\n",
    "voc_one = []\n",
    "for i in range(len(ranks_one)):\n",
    "    for j in range(len(clean_voc[ranks_one[i]])):\n",
    "        if(clean_voc[ranks_one[i]][j] not in voc_one):\n",
    "            voc_one.append(clean_voc[ranks_one[i]][j])\n",
    "\n",
    "for word in voc_one:\n",
    "    if word in keys:\n",
    "        sum_one += polarity_dictionary[word]\n",
    "\n",
    "value_rank_one = sum_one / amount_one"
   ]
  },
  {
   "cell_type": "code",
   "execution_count": 10,
   "metadata": {},
   "outputs": [],
   "source": [
    "# Getting the values of the rank zero reviews\n",
    "sum_two = 0\n",
    "amount_two = len(ranks_two)\n",
    "\n",
    "voc_two = []\n",
    "for i in range(len(ranks_two)):\n",
    "    for j in range(len(clean_voc[ranks_two[i]])):\n",
    "        if(clean_voc[ranks_two[i]][j] not in voc_two):\n",
    "            voc_two.append(clean_voc[ranks_two[i]][j])\n",
    "\n",
    "for word in voc_two:\n",
    "    if word in keys:\n",
    "        sum_two += polarity_dictionary[word]\n",
    "\n",
    "value_rank_two = sum_two / amount_two"
   ]
  },
  {
   "cell_type": "code",
   "execution_count": 11,
   "metadata": {},
   "outputs": [],
   "source": [
    "# Getting the values of the rank zero reviews\n",
    "sum_three = 0\n",
    "amount_three = len(ranks_three)\n",
    "\n",
    "voc_three = []\n",
    "for i in range(len(ranks_three)):\n",
    "    for j in range(len(clean_voc[ranks_three[i]])):\n",
    "        if(clean_voc[ranks_three[i]][j] not in voc_three):\n",
    "            voc_three.append(clean_voc[ranks_three[i]][j])\n",
    "\n",
    "for word in voc_three:\n",
    "    if word in keys:\n",
    "        sum_three += polarity_dictionary[word]\n",
    "\n",
    "value_rank_three = sum_three / amount_three"
   ]
  },
  {
   "cell_type": "code",
   "execution_count": 12,
   "metadata": {},
   "outputs": [],
   "source": [
    "# Getting the values of the rank zero reviews\n",
    "sum_four = 0\n",
    "amount_four = len(ranks_four)\n",
    "\n",
    "voc_four = []\n",
    "for i in range(len(ranks_four)):\n",
    "    for j in range(len(clean_voc[ranks_four[i]])):\n",
    "        if(clean_voc[ranks_four[i]][j] not in voc_four):\n",
    "            voc_four.append(clean_voc[ranks_four[i]][j])\n",
    "\n",
    "for word in voc_four:\n",
    "    if word in keys:\n",
    "        sum_four += polarity_dictionary[word]\n",
    "\n",
    "value_rank_four = sum_four / amount_four"
   ]
  },
  {
   "cell_type": "code",
   "execution_count": 13,
   "metadata": {},
   "outputs": [],
   "source": [
    "# Getting the values of the rank zero reviews\n",
    "sum_five = 0\n",
    "amount_five = len(ranks_five)\n",
    "\n",
    "voc_five = []\n",
    "for i in range(len(ranks_five)):\n",
    "    for j in range(len(clean_voc[ranks_five[i]])):\n",
    "        if(clean_voc[ranks_five[i]][j] not in voc_five):\n",
    "            voc_five.append(clean_voc[ranks_five[i]][j])\n",
    "\n",
    "for word in voc_five:\n",
    "    if word in keys:\n",
    "        sum_five += polarity_dictionary[word]\n",
    "\n",
    "value_rank_five = sum_five / amount_five"
   ]
  },
  {
   "cell_type": "code",
   "execution_count": 14,
   "metadata": {},
   "outputs": [
    {
     "name": "stdout",
     "output_type": "stream",
     "text": [
      "+-------+---------------------+\n",
      "|  Rank |        Value        |\n",
      "+-------+---------------------+\n",
      "|  One  |  0.1253361823361831 |\n",
      "|  Two  | 0.08458396533044492 |\n",
      "| Three | 0.07270470869912267 |\n",
      "|  Four | 0.08966179775280968 |\n",
      "|  Five | 0.21144468546637862 |\n",
      "+-------+---------------------+\n"
     ]
    }
   ],
   "source": [
    "t = PrettyTable(['Rank', 'Value'])\n",
    "t.add_row(['One', value_rank_one])\n",
    "t.add_row(['Two', value_rank_two])\n",
    "t.add_row(['Three', value_rank_three])\n",
    "t.add_row(['Four', value_rank_four])\n",
    "t.add_row(['Five', value_rank_five])\n",
    "print(t)"
   ]
  },
  {
   "cell_type": "code",
   "execution_count": null,
   "metadata": {},
   "outputs": [],
   "source": []
  }
 ],
 "metadata": {
  "kernelspec": {
   "display_name": "Python 3",
   "language": "python",
   "name": "python3"
  },
  "language_info": {
   "codemirror_mode": {
    "name": "ipython",
    "version": 3
   },
   "file_extension": ".py",
   "mimetype": "text/x-python",
   "name": "python",
   "nbconvert_exporter": "python",
   "pygments_lexer": "ipython3",
   "version": "3.7.6"
  }
 },
 "nbformat": 4,
 "nbformat_minor": 4
}

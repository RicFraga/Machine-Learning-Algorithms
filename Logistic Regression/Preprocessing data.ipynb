{
 "cells": [
  {
   "cell_type": "code",
   "execution_count": 1,
   "metadata": {},
   "outputs": [],
   "source": [
    "import nltk\n",
    "import marshal\n",
    "import numpy as np\n",
    "from nltk.stem import WordNetLemmatizer"
   ]
  },
  {
   "cell_type": "code",
   "execution_count": 2,
   "metadata": {},
   "outputs": [],
   "source": [
    "# Reading the data from the file\n",
    "f = open(\"SMS_Spam_Corpus_big.txt\", encoding = 'latin8')\n",
    "data = f.read().splitlines()\n",
    "f.close()"
   ]
  },
  {
   "cell_type": "code",
   "execution_count": 3,
   "metadata": {},
   "outputs": [
    {
     "name": "stdout",
     "output_type": "stream",
     "text": [
      "Urgent! call 09061749602 from Landline. Your complimentary 4* Tenerife Holiday or £10,000 cash await collection SAE T&Cs BOX 528 HP20 1YF 150ppm 18+,spam\n",
      "------------------------------------\n",
      "+449071512431 URGENT! This is the 2nd attempt to contact U!U have WON £1250 CALL 09071512433 b4 050703 T&CsBCM4235WC1N3XX. callcost 150ppm mobilesvary. max£7. 50,spam\n",
      "------------------------------------\n",
      "FREE for 1st week! No1 Nokia tone 4 ur mob every week just txt NOKIA to 8007 Get txting and tell ur mates www.getzed.co.uk POBox 36504 W45WQ norm150p/tone 16+,spam\n",
      "------------------------------------\n",
      "Urgent! call 09066612661 from landline. Your complementary 4* Tenerife Holiday or £10,000 cash await collection SAE T&Cs PO Box 3 WA14 2PX 150ppm 18+ Sender: Hol Offer,spam\n",
      "------------------------------------\n",
      "WINNER!! As a valued network customer you have been selected to receivea £900 prize reward! To claim call 09061701461. Claim code KL341. Valid 12 hours only.,spam\n",
      "------------------------------------\n"
     ]
    }
   ],
   "source": [
    "# Checking the data\n",
    "for i in range(5):\n",
    "    print(data[i])\n",
    "    print(\"------------------------------------\")"
   ]
  },
  {
   "cell_type": "code",
   "execution_count": 4,
   "metadata": {},
   "outputs": [],
   "source": [
    "# Transforming all the data into lowercase\n",
    "data = [sentence.lower() for sentence in data]"
   ]
  },
  {
   "cell_type": "code",
   "execution_count": 5,
   "metadata": {},
   "outputs": [
    {
     "name": "stdout",
     "output_type": "stream",
     "text": [
      "urgent! call 09061749602 from landline. your complimentary 4* tenerife holiday or £10,000 cash await collection sae t&cs box 528 hp20 1yf 150ppm 18+,spam\n",
      "------------------------------------\n",
      "+449071512431 urgent! this is the 2nd attempt to contact u!u have won £1250 call 09071512433 b4 050703 t&csbcm4235wc1n3xx. callcost 150ppm mobilesvary. max£7. 50,spam\n",
      "------------------------------------\n",
      "free for 1st week! no1 nokia tone 4 ur mob every week just txt nokia to 8007 get txting and tell ur mates www.getzed.co.uk pobox 36504 w45wq norm150p/tone 16+,spam\n",
      "------------------------------------\n",
      "urgent! call 09066612661 from landline. your complementary 4* tenerife holiday or £10,000 cash await collection sae t&cs po box 3 wa14 2px 150ppm 18+ sender: hol offer,spam\n",
      "------------------------------------\n",
      "winner!! as a valued network customer you have been selected to receivea £900 prize reward! to claim call 09061701461. claim code kl341. valid 12 hours only.,spam\n",
      "------------------------------------\n"
     ]
    }
   ],
   "source": [
    "# Checking the min data\n",
    "for i in range(5):\n",
    "    print(data[i])\n",
    "    print(\"------------------------------------\")"
   ]
  },
  {
   "cell_type": "code",
   "execution_count": 6,
   "metadata": {},
   "outputs": [],
   "source": [
    "# Tokenizing data\n",
    "data = [nltk.word_tokenize(sentence) for sentence in data]"
   ]
  },
  {
   "cell_type": "code",
   "execution_count": 7,
   "metadata": {},
   "outputs": [
    {
     "name": "stdout",
     "output_type": "stream",
     "text": [
      "['urgent', '!', 'call', '09061749602', 'from', 'landline', '.', 'your', 'complimentary', '4*', 'tenerife', 'holiday', 'or', '£10,000', 'cash', 'await', 'collection', 'sae', 't', '&', 'cs', 'box', '528', 'hp20', '1yf', '150ppm', '18+', ',', 'spam']\n",
      "------------------------------------\n",
      "['+449071512431', 'urgent', '!', 'this', 'is', 'the', '2nd', 'attempt', 'to', 'contact', 'u', '!', 'u', 'have', 'won', '£1250', 'call', '09071512433', 'b4', '050703', 't', '&', 'csbcm4235wc1n3xx', '.', 'callcost', '150ppm', 'mobilesvary', '.', 'max£7', '.', '50', ',', 'spam']\n",
      "------------------------------------\n",
      "['free', 'for', '1st', 'week', '!', 'no1', 'nokia', 'tone', '4', 'ur', 'mob', 'every', 'week', 'just', 'txt', 'nokia', 'to', '8007', 'get', 'txting', 'and', 'tell', 'ur', 'mates', 'www.getzed.co.uk', 'pobox', '36504', 'w45wq', 'norm150p/tone', '16+', ',', 'spam']\n",
      "------------------------------------\n",
      "['urgent', '!', 'call', '09066612661', 'from', 'landline', '.', 'your', 'complementary', '4*', 'tenerife', 'holiday', 'or', '£10,000', 'cash', 'await', 'collection', 'sae', 't', '&', 'cs', 'po', 'box', '3', 'wa14', '2px', '150ppm', '18+', 'sender', ':', 'hol', 'offer', ',', 'spam']\n",
      "------------------------------------\n",
      "['winner', '!', '!', 'as', 'a', 'valued', 'network', 'customer', 'you', 'have', 'been', 'selected', 'to', 'receivea', '£900', 'prize', 'reward', '!', 'to', 'claim', 'call', '09061701461.', 'claim', 'code', 'kl341', '.', 'valid', '12', 'hours', 'only.', ',', 'spam']\n",
      "------------------------------------\n"
     ]
    }
   ],
   "source": [
    "# Checking the min data\n",
    "for i in range(5):\n",
    "    print(data[i])\n",
    "    print(\"------------------------------------\")"
   ]
  },
  {
   "cell_type": "code",
   "execution_count": 8,
   "metadata": {},
   "outputs": [],
   "source": [
    "# Tagging data\n",
    "data = [nltk.pos_tag(sentence, tagset = 'universal') for sentence in data]"
   ]
  },
  {
   "cell_type": "code",
   "execution_count": 9,
   "metadata": {},
   "outputs": [
    {
     "name": "stdout",
     "output_type": "stream",
     "text": [
      "[('urgent', 'ADJ'), ('!', '.'), ('call', 'NOUN'), ('09061749602', 'NUM'), ('from', 'ADP'), ('landline', 'NOUN'), ('.', '.'), ('your', 'PRON'), ('complimentary', 'ADJ'), ('4*', 'NUM'), ('tenerife', 'NOUN'), ('holiday', 'NOUN'), ('or', 'CONJ'), ('£10,000', 'VERB'), ('cash', 'NOUN'), ('await', 'NOUN'), ('collection', 'NOUN'), ('sae', 'NOUN'), ('t', 'NOUN'), ('&', 'CONJ'), ('cs', 'NOUN'), ('box', 'NOUN'), ('528', 'NUM'), ('hp20', 'NOUN'), ('1yf', 'NUM'), ('150ppm', 'NUM'), ('18+', 'NUM'), (',', '.'), ('spam', 'NOUN')]\n",
      "------------------------------------\n",
      "[('+449071512431', 'ADJ'), ('urgent', 'NOUN'), ('!', '.'), ('this', 'DET'), ('is', 'VERB'), ('the', 'DET'), ('2nd', 'ADJ'), ('attempt', 'NOUN'), ('to', 'PRT'), ('contact', 'VERB'), ('u', 'ADJ'), ('!', '.'), ('u', 'NOUN'), ('have', 'VERB'), ('won', 'VERB'), ('£1250', 'NOUN'), ('call', 'VERB'), ('09071512433', 'NUM'), ('b4', 'NOUN'), ('050703', 'NUM'), ('t', 'NOUN'), ('&', 'CONJ'), ('csbcm4235wc1n3xx', 'NOUN'), ('.', '.'), ('callcost', 'NOUN'), ('150ppm', 'NUM'), ('mobilesvary', 'NOUN'), ('.', '.'), ('max£7', 'NOUN'), ('.', '.'), ('50', 'NUM'), (',', '.'), ('spam', 'NOUN')]\n",
      "------------------------------------\n",
      "[('free', 'ADJ'), ('for', 'ADP'), ('1st', 'NUM'), ('week', 'NOUN'), ('!', '.'), ('no1', 'ADJ'), ('nokia', 'ADJ'), ('tone', 'NOUN'), ('4', 'NUM'), ('ur', 'ADJ'), ('mob', 'NOUN'), ('every', 'DET'), ('week', 'NOUN'), ('just', 'ADV'), ('txt', 'ADV'), ('nokia', 'ADV'), ('to', 'PRT'), ('8007', 'NUM'), ('get', 'NOUN'), ('txting', 'VERB'), ('and', 'CONJ'), ('tell', 'VERB'), ('ur', 'ADJ'), ('mates', 'NOUN'), ('www.getzed.co.uk', 'VERB'), ('pobox', 'ADJ'), ('36504', 'NUM'), ('w45wq', 'NOUN'), ('norm150p/tone', 'NOUN'), ('16+', 'NUM'), (',', '.'), ('spam', 'NOUN')]\n",
      "------------------------------------\n",
      "[('urgent', 'ADJ'), ('!', '.'), ('call', 'NOUN'), ('09066612661', 'NUM'), ('from', 'ADP'), ('landline', 'NOUN'), ('.', '.'), ('your', 'PRON'), ('complementary', 'ADJ'), ('4*', 'NUM'), ('tenerife', 'NOUN'), ('holiday', 'NOUN'), ('or', 'CONJ'), ('£10,000', 'VERB'), ('cash', 'NOUN'), ('await', 'NOUN'), ('collection', 'NOUN'), ('sae', 'NOUN'), ('t', 'NOUN'), ('&', 'CONJ'), ('cs', 'NOUN'), ('po', 'NOUN'), ('box', 'NOUN'), ('3', 'NUM'), ('wa14', 'NOUN'), ('2px', 'NUM'), ('150ppm', 'NUM'), ('18+', 'NUM'), ('sender', 'NOUN'), (':', '.'), ('hol', 'NOUN'), ('offer', 'NOUN'), (',', '.'), ('spam', 'NOUN')]\n",
      "------------------------------------\n",
      "[('winner', 'NOUN'), ('!', '.'), ('!', '.'), ('as', 'ADP'), ('a', 'DET'), ('valued', 'VERB'), ('network', 'NOUN'), ('customer', 'NOUN'), ('you', 'PRON'), ('have', 'VERB'), ('been', 'VERB'), ('selected', 'VERB'), ('to', 'PRT'), ('receivea', 'VERB'), ('£900', 'NOUN'), ('prize', 'VERB'), ('reward', 'NOUN'), ('!', '.'), ('to', 'PRT'), ('claim', 'VERB'), ('call', 'ADJ'), ('09061701461.', 'NUM'), ('claim', 'NOUN'), ('code', 'NOUN'), ('kl341', 'NOUN'), ('.', '.'), ('valid', 'ADJ'), ('12', 'NUM'), ('hours', 'NOUN'), ('only.', 'ADV'), (',', '.'), ('spam', 'NOUN')]\n",
      "------------------------------------\n"
     ]
    }
   ],
   "source": [
    "# Checking the min data\n",
    "for i in range(5):\n",
    "    print(data[i])\n",
    "    print(\"------------------------------------\")"
   ]
  },
  {
   "cell_type": "code",
   "execution_count": 10,
   "metadata": {},
   "outputs": [],
   "source": [
    "# Lemmatizing tagged data\n",
    "wn1 = WordNetLemmatizer()\n",
    "\n",
    "normalized_data = []\n",
    "aux_array = []\n",
    "\n",
    "# For each sentence\n",
    "for i in range(len(data)):\n",
    "    aux_array = []\n",
    "    \n",
    "    # For each lemmatized word\n",
    "    for j in range(len(data[i])):\n",
    "        try:\n",
    "            aux_array.append(wn1.lemmatize(data[i][j][0], data[i][j][1][0].lower()))\n",
    "        \n",
    "        except:\n",
    "            aux_array.append(data[i][j][0])\n",
    "    \n",
    "    normalized_data.append(aux_array)"
   ]
  },
  {
   "cell_type": "code",
   "execution_count": 11,
   "metadata": {},
   "outputs": [
    {
     "name": "stdout",
     "output_type": "stream",
     "text": [
      "['urgent', '!', 'call', '09061749602', 'from', 'landline', '.', 'your', 'complimentary', '4*', 'tenerife', 'holiday', 'or', '£10,000', 'cash', 'await', 'collection', 'sae', 't', '&', 'c', 'box', '528', 'hp20', '1yf', '150ppm', '18+', ',', 'spam']\n",
      "------------------------------------\n",
      "['+449071512431', 'urgent', '!', 'this', 'be', 'the', '2nd', 'attempt', 'to', 'contact', 'u', '!', 'u', 'have', 'win', '£1250', 'call', '09071512433', 'b4', '050703', 't', '&', 'csbcm4235wc1n3xx', '.', 'callcost', '150ppm', 'mobilesvary', '.', 'max£7', '.', '50', ',', 'spam']\n",
      "------------------------------------\n",
      "['free', 'for', '1st', 'week', '!', 'no1', 'nokia', 'tone', '4', 'ur', 'mob', 'every', 'week', 'just', 'txt', 'nokia', 'to', '8007', 'get', 'txting', 'and', 'tell', 'ur', 'mate', 'www.getzed.co.uk', 'pobox', '36504', 'w45wq', 'norm150p/tone', '16+', ',', 'spam']\n",
      "------------------------------------\n",
      "['urgent', '!', 'call', '09066612661', 'from', 'landline', '.', 'your', 'complementary', '4*', 'tenerife', 'holiday', 'or', '£10,000', 'cash', 'await', 'collection', 'sae', 't', '&', 'c', 'po', 'box', '3', 'wa14', '2px', '150ppm', '18+', 'sender', ':', 'hol', 'offer', ',', 'spam']\n",
      "------------------------------------\n",
      "['winner', '!', '!', 'as', 'a', 'value', 'network', 'customer', 'you', 'have', 'be', 'select', 'to', 'receivea', '£900', 'prize', 'reward', '!', 'to', 'claim', 'call', '09061701461.', 'claim', 'code', 'kl341', '.', 'valid', '12', 'hour', 'only.', ',', 'spam']\n",
      "------------------------------------\n"
     ]
    }
   ],
   "source": [
    "# Checking the normalized data\n",
    "for i in range(5):\n",
    "    print(normalized_data[i])\n",
    "    print(\"------------------------------------\")"
   ]
  },
  {
   "cell_type": "code",
   "execution_count": 12,
   "metadata": {},
   "outputs": [],
   "source": [
    "# Making the X and Y matrixes\n",
    "Y = np.zeros(len(normalized_data), dtype = np.uint8)\n",
    "\n",
    "for i in range(len(normalized_data)):\n",
    "    if(normalized_data[i][:][-1] == 'spam'):\n",
    "        Y[i] = 1\n",
    "    \n",
    "    else:\n",
    "        Y[i] = 0"
   ]
  },
  {
   "cell_type": "code",
   "execution_count": 13,
   "metadata": {},
   "outputs": [
    {
     "name": "stdout",
     "output_type": "stream",
     "text": [
      "1\n",
      "------------------------------------\n",
      "1\n",
      "------------------------------------\n",
      "1\n",
      "------------------------------------\n",
      "1\n",
      "------------------------------------\n",
      "1\n",
      "------------------------------------\n"
     ]
    }
   ],
   "source": [
    "# Checking the Y vector\n",
    "for i in range(5):\n",
    "    print(Y[i])\n",
    "    print(\"------------------------------------\")"
   ]
  },
  {
   "cell_type": "code",
   "execution_count": 14,
   "metadata": {},
   "outputs": [],
   "source": [
    "# Removing the spam ham tag\n",
    "for i in range(len(normalized_data)):\n",
    "    normalized_data[i] = normalized_data[i][:len(normalized_data[i]) - 2]"
   ]
  },
  {
   "cell_type": "code",
   "execution_count": 15,
   "metadata": {},
   "outputs": [
    {
     "name": "stdout",
     "output_type": "stream",
     "text": [
      "['urgent', '!', 'call', '09061749602', 'from', 'landline', '.', 'your', 'complimentary', '4*', 'tenerife', 'holiday', 'or', '£10,000', 'cash', 'await', 'collection', 'sae', 't', '&', 'c', 'box', '528', 'hp20', '1yf', '150ppm', '18+']\n",
      "------------------------------------\n",
      "['+449071512431', 'urgent', '!', 'this', 'be', 'the', '2nd', 'attempt', 'to', 'contact', 'u', '!', 'u', 'have', 'win', '£1250', 'call', '09071512433', 'b4', '050703', 't', '&', 'csbcm4235wc1n3xx', '.', 'callcost', '150ppm', 'mobilesvary', '.', 'max£7', '.', '50']\n",
      "------------------------------------\n",
      "['free', 'for', '1st', 'week', '!', 'no1', 'nokia', 'tone', '4', 'ur', 'mob', 'every', 'week', 'just', 'txt', 'nokia', 'to', '8007', 'get', 'txting', 'and', 'tell', 'ur', 'mate', 'www.getzed.co.uk', 'pobox', '36504', 'w45wq', 'norm150p/tone', '16+']\n",
      "------------------------------------\n",
      "['urgent', '!', 'call', '09066612661', 'from', 'landline', '.', 'your', 'complementary', '4*', 'tenerife', 'holiday', 'or', '£10,000', 'cash', 'await', 'collection', 'sae', 't', '&', 'c', 'po', 'box', '3', 'wa14', '2px', '150ppm', '18+', 'sender', ':', 'hol', 'offer']\n",
      "------------------------------------\n",
      "['winner', '!', '!', 'as', 'a', 'value', 'network', 'customer', 'you', 'have', 'be', 'select', 'to', 'receivea', '£900', 'prize', 'reward', '!', 'to', 'claim', 'call', '09061701461.', 'claim', 'code', 'kl341', '.', 'valid', '12', 'hour', 'only.']\n",
      "------------------------------------\n"
     ]
    }
   ],
   "source": [
    "# Checking the normalized data\n",
    "for i in range(5):\n",
    "    print(normalized_data[i])\n",
    "    print(\"------------------------------------\")"
   ]
  },
  {
   "cell_type": "code",
   "execution_count": 16,
   "metadata": {},
   "outputs": [],
   "source": [
    "aux = []\n",
    "for i in range(len(normalized_data)):\n",
    "    for j in range(len(normalized_data[i])):\n",
    "        aux.append(normalized_data[i][j])\n",
    "        \n",
    "vocabulary = sorted(set(aux))"
   ]
  },
  {
   "cell_type": "code",
   "execution_count": 17,
   "metadata": {},
   "outputs": [],
   "source": [
    "# Saving the vocabulary to check it\n",
    "f = open(\"vocabulary.txt\", \"w\")\n",
    "\n",
    "for i in range(len(vocabulary)):\n",
    "    f.write(vocabulary[i])\n",
    "    f.write(\"\\n\")\n",
    "\n",
    "f.close()"
   ]
  },
  {
   "cell_type": "code",
   "execution_count": 18,
   "metadata": {},
   "outputs": [
    {
     "data": {
      "text/plain": [
       "(1324, 3571)"
      ]
     },
     "execution_count": 18,
     "metadata": {},
     "output_type": "execute_result"
    }
   ],
   "source": [
    "# Frequency vectors\n",
    "frequency_vectors = np.zeros((len(normalized_data), len(vocabulary)))\n",
    "\n",
    "for i in range(len(normalized_data)):\n",
    "    vector = np.zeros(len(vocabulary))\n",
    "    \n",
    "    for j in range(len(vocabulary)):\n",
    "        if(vocabulary[j] in normalized_data[i]):\n",
    "            vector[j] += 1\n",
    "        \n",
    "        frequency_vectors[i] = vector\n",
    "\n",
    "frequency_vectors.shape"
   ]
  },
  {
   "cell_type": "code",
   "execution_count": 23,
   "metadata": {},
   "outputs": [
    {
     "data": {
      "text/plain": [
       "27.0"
      ]
     },
     "execution_count": 23,
     "metadata": {},
     "output_type": "execute_result"
    }
   ],
   "source": [
    "np.sum(frequency_vectors[1])"
   ]
  },
  {
   "cell_type": "code",
   "execution_count": 19,
   "metadata": {},
   "outputs": [],
   "source": [
    "# Probability vectors\n",
    "probability_vectors = np.zeros((len(normalized_data), len(vocabulary)))\n",
    "\n",
    "for i in range(len(normalized_data)):\n",
    "    amount = 0\n",
    "    \n",
    "    for j in range(len(vocabulary)):\n",
    "        if(vocabulary[j] in normalized_data[i]):\n",
    "            amount += 1\n",
    "        \n",
    "    probability_vectors[i] = frequency_vectors[i] / amount"
   ]
  },
  {
   "cell_type": "code",
   "execution_count": 27,
   "metadata": {},
   "outputs": [
    {
     "data": {
      "text/plain": [
       "1.0"
      ]
     },
     "execution_count": 27,
     "metadata": {},
     "output_type": "execute_result"
    }
   ],
   "source": []
  },
  {
   "cell_type": "code",
   "execution_count": 20,
   "metadata": {},
   "outputs": [
    {
     "name": "stdout",
     "output_type": "stream",
     "text": [
      "(1324, 3571)\n",
      "(1324,)\n"
     ]
    }
   ],
   "source": [
    "# Verifying shapes\n",
    "print(probability_vectors.shape)\n",
    "print(Y.shape)"
   ]
  },
  {
   "cell_type": "code",
   "execution_count": 29,
   "metadata": {},
   "outputs": [],
   "source": [
    "# Saving the x and y vectors\n",
    "np.savetxt('x.txt', probability_vectors)\n",
    "np.savetxt('y.txt', Y, fmt='%d')"
   ]
  },
  {
   "cell_type": "code",
   "execution_count": null,
   "metadata": {},
   "outputs": [],
   "source": []
  }
 ],
 "metadata": {
  "kernelspec": {
   "display_name": "Python 3",
   "language": "python",
   "name": "python3"
  },
  "language_info": {
   "codemirror_mode": {
    "name": "ipython",
    "version": 3
   },
   "file_extension": ".py",
   "mimetype": "text/x-python",
   "name": "python",
   "nbconvert_exporter": "python",
   "pygments_lexer": "ipython3",
   "version": "3.7.6"
  }
 },
 "nbformat": 4,
 "nbformat_minor": 4
}
